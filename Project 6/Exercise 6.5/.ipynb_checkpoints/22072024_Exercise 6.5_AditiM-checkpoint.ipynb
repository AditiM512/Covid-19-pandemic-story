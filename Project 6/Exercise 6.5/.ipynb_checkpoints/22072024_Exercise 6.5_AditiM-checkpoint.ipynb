{
 "cells": [
  {
   "cell_type": "code",
   "execution_count": 6,
   "id": "244d06e2-47f0-452d-88b7-7215b3b6db26",
   "metadata": {},
   "outputs": [],
   "source": [
    "import os\n",
    "os.environ[\"OMP_NUM_THREADS\"] = \"1\""
   ]
  },
  {
   "cell_type": "code",
   "execution_count": 9,
   "id": "d868f4ab-d299-486b-b51e-355fc7a4b0f3",
   "metadata": {},
   "outputs": [],
   "source": [
    "import pandas as pd\n",
    "import numpy as np\n",
    "import seaborn as sns\n",
    "import matplotlib\n",
    "import matplotlib.pyplot as plt\n",
    "import sklearn\n",
    "from sklearn.cluster import KMeans # Here is where you import the k-means algorithm from scikit-learn.\n",
    "import pylab as pl # PyLab is a convenience module that bulk imports matplotlib"
   ]
  },
  {
   "cell_type": "code",
   "execution_count": 12,
   "id": "2b7f63b3-9872-4af4-a8ec-b6f359c3958c",
   "metadata": {},
   "outputs": [],
   "source": [
    "# This option ensures that the graphs you create are displayed within the notebook without the need to \"call\" them specifically.\n",
    "\n",
    "%matplotlib inline"
   ]
  },
  {
   "cell_type": "code",
   "execution_count": 15,
   "id": "7c7f4e2f-0d56-407e-a641-23e9de1d93c3",
   "metadata": {},
   "outputs": [],
   "source": [
    "file_path = r'C:\\Users\\aditi\\Desktop\\Data Analytics_Career Foundry\\Data Analytics_Immersion\\Project 6\\Pivoted_dataset.xlsx'"
   ]
  },
  {
   "cell_type": "code",
   "execution_count": 18,
   "id": "3c1af3e9-a1fd-49c6-8d32-47e5e8b356ad",
   "metadata": {},
   "outputs": [],
   "source": [
    "df = pd.read_excel(file_path)"
   ]
  },
  {
   "cell_type": "code",
   "execution_count": 21,
   "id": "6ad182c7-cbb7-470e-be82-9842a0e19818",
   "metadata": {},
   "outputs": [],
   "source": [
    "df=df[['Max of total_cases', 'Max of total_deaths', 'Max of reproduction_rate', 'Max of people_vaccinated', 'Max of people_fully_vaccinated', 'Average of aged_65_older (in %)', 'Average of gdp_per_capita (in USD)', 'Average of cardiovasc_death_rate (per 100,000)', 'Average of diabetes_prevalence (%)', 'Average of female_smokers (%)', 'Average of male_smokers (%)', 'Average of life_expectancy (in years)', 'Max of population']]"
   ]
  },
  {
   "cell_type": "code",
   "execution_count": 24,
   "id": "48ac7046-35e2-4ef3-ae31-24bcf9143411",
   "metadata": {},
   "outputs": [
    {
     "data": {
      "text/html": [
       "<div>\n",
       "<style scoped>\n",
       "    .dataframe tbody tr th:only-of-type {\n",
       "        vertical-align: middle;\n",
       "    }\n",
       "\n",
       "    .dataframe tbody tr th {\n",
       "        vertical-align: top;\n",
       "    }\n",
       "\n",
       "    .dataframe thead th {\n",
       "        text-align: right;\n",
       "    }\n",
       "</style>\n",
       "<table border=\"1\" class=\"dataframe\">\n",
       "  <thead>\n",
       "    <tr style=\"text-align: right;\">\n",
       "      <th></th>\n",
       "      <th>Max of total_cases</th>\n",
       "      <th>Max of total_deaths</th>\n",
       "      <th>Max of reproduction_rate</th>\n",
       "      <th>Max of people_vaccinated</th>\n",
       "      <th>Max of people_fully_vaccinated</th>\n",
       "      <th>Average of aged_65_older (in %)</th>\n",
       "      <th>Average of gdp_per_capita (in USD)</th>\n",
       "      <th>Average of cardiovasc_death_rate (per 100,000)</th>\n",
       "      <th>Average of diabetes_prevalence (%)</th>\n",
       "      <th>Average of female_smokers (%)</th>\n",
       "      <th>Average of male_smokers (%)</th>\n",
       "      <th>Average of life_expectancy (in years)</th>\n",
       "      <th>Max of population</th>\n",
       "    </tr>\n",
       "  </thead>\n",
       "  <tbody>\n",
       "    <tr>\n",
       "      <th>0</th>\n",
       "      <td>103436829</td>\n",
       "      <td>1189083</td>\n",
       "      <td>3.61</td>\n",
       "      <td>270227181</td>\n",
       "      <td>230637348</td>\n",
       "      <td>15.413</td>\n",
       "      <td>54225.446</td>\n",
       "      <td>151.089</td>\n",
       "      <td>10.79</td>\n",
       "      <td>19.1</td>\n",
       "      <td>24.6</td>\n",
       "      <td>78.86</td>\n",
       "      <td>338289856</td>\n",
       "    </tr>\n",
       "    <tr>\n",
       "      <th>1</th>\n",
       "      <td>99361338</td>\n",
       "      <td>122248</td>\n",
       "      <td>3.68</td>\n",
       "      <td>1310292000</td>\n",
       "      <td>1276760000</td>\n",
       "      <td>10.641</td>\n",
       "      <td>15308.712</td>\n",
       "      <td>261.899</td>\n",
       "      <td>9.74</td>\n",
       "      <td>1.9</td>\n",
       "      <td>48.4</td>\n",
       "      <td>76.91</td>\n",
       "      <td>1425887360</td>\n",
       "    </tr>\n",
       "    <tr>\n",
       "      <th>2</th>\n",
       "      <td>45040074</td>\n",
       "      <td>533619</td>\n",
       "      <td>2.67</td>\n",
       "      <td>1027438825</td>\n",
       "      <td>951990461</td>\n",
       "      <td>5.989</td>\n",
       "      <td>6426.674</td>\n",
       "      <td>282.280</td>\n",
       "      <td>10.39</td>\n",
       "      <td>1.9</td>\n",
       "      <td>20.6</td>\n",
       "      <td>69.66</td>\n",
       "      <td>1417173120</td>\n",
       "    </tr>\n",
       "    <tr>\n",
       "      <th>3</th>\n",
       "      <td>38997490</td>\n",
       "      <td>168091</td>\n",
       "      <td>3.09</td>\n",
       "      <td>54677678</td>\n",
       "      <td>53192478</td>\n",
       "      <td>19.718</td>\n",
       "      <td>38605.671</td>\n",
       "      <td>86.060</td>\n",
       "      <td>4.77</td>\n",
       "      <td>30.1</td>\n",
       "      <td>35.6</td>\n",
       "      <td>82.66</td>\n",
       "      <td>67813000</td>\n",
       "    </tr>\n",
       "    <tr>\n",
       "      <th>4</th>\n",
       "      <td>38437756</td>\n",
       "      <td>174979</td>\n",
       "      <td>3.00</td>\n",
       "      <td>64876299</td>\n",
       "      <td>63563414</td>\n",
       "      <td>21.453</td>\n",
       "      <td>45229.245</td>\n",
       "      <td>156.139</td>\n",
       "      <td>8.31</td>\n",
       "      <td>28.2</td>\n",
       "      <td>33.1</td>\n",
       "      <td>81.33</td>\n",
       "      <td>83369840</td>\n",
       "    </tr>\n",
       "  </tbody>\n",
       "</table>\n",
       "</div>"
      ],
      "text/plain": [
       "   Max of total_cases  Max of total_deaths  Max of reproduction_rate  \\\n",
       "0           103436829              1189083                      3.61   \n",
       "1            99361338               122248                      3.68   \n",
       "2            45040074               533619                      2.67   \n",
       "3            38997490               168091                      3.09   \n",
       "4            38437756               174979                      3.00   \n",
       "\n",
       "   Max of people_vaccinated  Max of people_fully_vaccinated  \\\n",
       "0                 270227181                       230637348   \n",
       "1                1310292000                      1276760000   \n",
       "2                1027438825                       951990461   \n",
       "3                  54677678                        53192478   \n",
       "4                  64876299                        63563414   \n",
       "\n",
       "   Average of aged_65_older (in %)  Average of gdp_per_capita (in USD)  \\\n",
       "0                           15.413                           54225.446   \n",
       "1                           10.641                           15308.712   \n",
       "2                            5.989                            6426.674   \n",
       "3                           19.718                           38605.671   \n",
       "4                           21.453                           45229.245   \n",
       "\n",
       "   Average of cardiovasc_death_rate (per 100,000)  \\\n",
       "0                                         151.089   \n",
       "1                                         261.899   \n",
       "2                                         282.280   \n",
       "3                                          86.060   \n",
       "4                                         156.139   \n",
       "\n",
       "   Average of diabetes_prevalence (%)  Average of female_smokers (%)  \\\n",
       "0                               10.79                           19.1   \n",
       "1                                9.74                            1.9   \n",
       "2                               10.39                            1.9   \n",
       "3                                4.77                           30.1   \n",
       "4                                8.31                           28.2   \n",
       "\n",
       "   Average of male_smokers (%)  Average of life_expectancy (in years)  \\\n",
       "0                         24.6                                  78.86   \n",
       "1                         48.4                                  76.91   \n",
       "2                         20.6                                  69.66   \n",
       "3                         35.6                                  82.66   \n",
       "4                         33.1                                  81.33   \n",
       "\n",
       "   Max of population  \n",
       "0          338289856  \n",
       "1         1425887360  \n",
       "2         1417173120  \n",
       "3           67813000  \n",
       "4           83369840  "
      ]
     },
     "execution_count": 24,
     "metadata": {},
     "output_type": "execute_result"
    }
   ],
   "source": [
    "df.head()"
   ]
  },
  {
   "cell_type": "markdown",
   "id": "a64bed14-d1ef-45ae-b242-f91d5399cb87",
   "metadata": {},
   "source": [
    "# The Elbow Technique"
   ]
  },
  {
   "cell_type": "code",
   "execution_count": 30,
   "id": "7b58a4ae-c4a4-48b2-8c8f-07f0783bbec6",
   "metadata": {},
   "outputs": [],
   "source": [
    "num_cl = range(1, 10) # Defines the range of potential clusters in the data.\n",
    "kmeans = [KMeans(n_clusters=i) for i in num_cl] # Defines k-means clusters in the range assigned above."
   ]
  },
  {
   "cell_type": "code",
   "execution_count": 33,
   "id": "20866a7f-ee1f-4634-9323-f7ec2558d973",
   "metadata": {},
   "outputs": [
    {
     "name": "stderr",
     "output_type": "stream",
     "text": [
      "C:\\Users\\aditi\\anaconda3\\Lib\\site-packages\\sklearn\\cluster\\_kmeans.py:870: FutureWarning: The default value of `n_init` will change from 10 to 'auto' in 1.4. Set the value of `n_init` explicitly to suppress the warning\n",
      "  warnings.warn(\n",
      "C:\\Users\\aditi\\anaconda3\\Lib\\site-packages\\sklearn\\cluster\\_kmeans.py:870: FutureWarning: The default value of `n_init` will change from 10 to 'auto' in 1.4. Set the value of `n_init` explicitly to suppress the warning\n",
      "  warnings.warn(\n",
      "C:\\Users\\aditi\\anaconda3\\Lib\\site-packages\\sklearn\\cluster\\_kmeans.py:870: FutureWarning: The default value of `n_init` will change from 10 to 'auto' in 1.4. Set the value of `n_init` explicitly to suppress the warning\n",
      "  warnings.warn(\n",
      "C:\\Users\\aditi\\anaconda3\\Lib\\site-packages\\sklearn\\cluster\\_kmeans.py:870: FutureWarning: The default value of `n_init` will change from 10 to 'auto' in 1.4. Set the value of `n_init` explicitly to suppress the warning\n",
      "  warnings.warn(\n",
      "C:\\Users\\aditi\\anaconda3\\Lib\\site-packages\\sklearn\\cluster\\_kmeans.py:870: FutureWarning: The default value of `n_init` will change from 10 to 'auto' in 1.4. Set the value of `n_init` explicitly to suppress the warning\n",
      "  warnings.warn(\n",
      "C:\\Users\\aditi\\anaconda3\\Lib\\site-packages\\sklearn\\cluster\\_kmeans.py:870: FutureWarning: The default value of `n_init` will change from 10 to 'auto' in 1.4. Set the value of `n_init` explicitly to suppress the warning\n",
      "  warnings.warn(\n",
      "C:\\Users\\aditi\\anaconda3\\Lib\\site-packages\\sklearn\\cluster\\_kmeans.py:870: FutureWarning: The default value of `n_init` will change from 10 to 'auto' in 1.4. Set the value of `n_init` explicitly to suppress the warning\n",
      "  warnings.warn(\n",
      "C:\\Users\\aditi\\anaconda3\\Lib\\site-packages\\sklearn\\cluster\\_kmeans.py:870: FutureWarning: The default value of `n_init` will change from 10 to 'auto' in 1.4. Set the value of `n_init` explicitly to suppress the warning\n",
      "  warnings.warn(\n",
      "C:\\Users\\aditi\\anaconda3\\Lib\\site-packages\\sklearn\\cluster\\_kmeans.py:870: FutureWarning: The default value of `n_init` will change from 10 to 'auto' in 1.4. Set the value of `n_init` explicitly to suppress the warning\n",
      "  warnings.warn(\n"
     ]
    }
   ],
   "source": [
    "score = [kmeans[i].fit(df).score(df) for i in range(len(kmeans))] # Creates a score that represents \n",
    "# a rate of variation for the given cluster option."
   ]
  },
  {
   "cell_type": "markdown",
   "id": "5046a945-ba24-4689-811b-9428e575e79b",
   "metadata": {},
   "source": [
    "# From ChatGPT\n"
   ]
  },
  {
   "cell_type": "code",
   "execution_count": 38,
   "id": "fdde186c-b4f5-4730-9f5f-2aa17a5bf07f",
   "metadata": {},
   "outputs": [],
   "source": [
    "range_n_clusters = range(1, 11) # Defines the range of potential clusters in the data.\n",
    "# List to store the WCSS values\n",
    "wcss = []"
   ]
  },
  {
   "cell_type": "code",
   "execution_count": 41,
   "id": "1e079327-ee5f-415e-9748-f7d01b3657eb",
   "metadata": {},
   "outputs": [],
   "source": [
    "for n_clusters in range_n_clusters:\n",
    "    kmeans = KMeans(n_clusters=n_clusters, n_init=10, random_state=0)\n",
    "    kmeans.fit(df)\n",
    "    wcss.append(kmeans.inertia_)"
   ]
  },
  {
   "cell_type": "code",
   "execution_count": 45,
   "id": "7ce0210c-3c7c-48f7-a374-8d10797c6c82",
   "metadata": {},
   "outputs": [
    {
     "data": {
      "image/png": "[encoded data removed]",
      "text/plain": [
       "<Figure size 640x480 with 1 Axes>"
      ]
     },
     "metadata": {},
     "output_type": "display_data"
    }
   ],
   "source": [
    "# Plot the Elbow Method graph\n",
    "plt.plot(range_n_clusters, wcss, marker='o')\n",
    "plt.xlabel('Number of clusters (K)')\n",
    "plt.ylabel('WCSS')\n",
    "plt.title('Elbow Method for Optimal K')\n",
    "plt.show()"
   ]
  },
  {
   "cell_type": "markdown",
   "id": "8732f2fb-b508-457f-86c7-521b494115ab",
   "metadata": {},
   "source": [
    "# k-means clustering"
   ]
  },
  {
   "cell_type": "code",
   "execution_count": 82,
   "id": "26381287-26ea-444d-882c-7b723c55d482",
   "metadata": {},
   "outputs": [],
   "source": [
    "# Create the k-means object.\n",
    "\n",
    "kmeans = KMeans(n_clusters = 3)"
   ]
  },
  {
   "cell_type": "code",
   "execution_count": 85,
   "id": "5aa2c964-77fb-4598-a5f3-3d23abaf82b9",
   "metadata": {},
   "outputs": [
    {
     "name": "stderr",
     "output_type": "stream",
     "text": [
      "C:\\Users\\aditi\\anaconda3\\Lib\\site-packages\\sklearn\\cluster\\_kmeans.py:870: FutureWarning: The default value of `n_init` will change from 10 to 'auto' in 1.4. Set the value of `n_init` explicitly to suppress the warning\n",
      "  warnings.warn(\n"
     ]
    },
    {
     "data": {
      "text/html": [
       "<style>#sk-container-id-2 {color: black;background-color: white;}#sk-container-id-2 pre{padding: 0;}#sk-container-id-2 div.sk-toggleable {background-color: white;}#sk-container-id-2 label.sk-toggleable__label {cursor: pointer;display: block;width: 100%;margin-bottom: 0;padding: 0.3em;box-sizing: border-box;text-align: center;}#sk-container-id-2 label.sk-toggleable__label-arrow:before {content: \"▸\";float: left;margin-right: 0.25em;color: #696969;}#sk-container-id-2 label.sk-toggleable__label-arrow:hover:before {color: black;}#sk-container-id-2 div.sk-estimator:hover label.sk-toggleable__label-arrow:before {color: black;}#sk-container-id-2 div.sk-toggleable__content {max-height: 0;max-width: 0;overflow: hidden;text-align: left;background-color: #f0f8ff;}#sk-container-id-2 div.sk-toggleable__content pre {margin: 0.2em;color: black;border-radius: 0.25em;background-color: #f0f8ff;}#sk-container-id-2 input.sk-toggleable__control:checked~div.sk-toggleable__content {max-height: 200px;max-width: 100%;overflow: auto;}#sk-container-id-2 input.sk-toggleable__control:checked~label.sk-toggleable__label-arrow:before {content: \"▾\";}#sk-container-id-2 div.sk-estimator input.sk-toggleable__control:checked~label.sk-toggleable__label {background-color: #d4ebff;}#sk-container-id-2 div.sk-label input.sk-toggleable__control:checked~label.sk-toggleable__label {background-color: #d4ebff;}#sk-container-id-2 input.sk-hidden--visually {border: 0;clip: rect(1px 1px 1px 1px);clip: rect(1px, 1px, 1px, 1px);height: 1px;margin: -1px;overflow: hidden;padding: 0;position: absolute;width: 1px;}#sk-container-id-2 div.sk-estimator {font-family: monospace;background-color: #f0f8ff;border: 1px dotted black;border-radius: 0.25em;box-sizing: border-box;margin-bottom: 0.5em;}#sk-container-id-2 div.sk-estimator:hover {background-color: #d4ebff;}#sk-container-id-2 div.sk-parallel-item::after {content: \"\";width: 100%;border-bottom: 1px solid gray;flex-grow: 1;}#sk-container-id-2 div.sk-label:hover label.sk-toggleable__label {background-color: #d4ebff;}#sk-container-id-2 div.sk-serial::before {content: \"\";position: absolute;border-left: 1px solid gray;box-sizing: border-box;top: 0;bottom: 0;left: 50%;z-index: 0;}#sk-container-id-2 div.sk-serial {display: flex;flex-direction: column;align-items: center;background-color: white;padding-right: 0.2em;padding-left: 0.2em;position: relative;}#sk-container-id-2 div.sk-item {position: relative;z-index: 1;}#sk-container-id-2 div.sk-parallel {display: flex;align-items: stretch;justify-content: center;background-color: white;position: relative;}#sk-container-id-2 div.sk-item::before, #sk-container-id-2 div.sk-parallel-item::before {content: \"\";position: absolute;border-left: 1px solid gray;box-sizing: border-box;top: 0;bottom: 0;left: 50%;z-index: -1;}#sk-container-id-2 div.sk-parallel-item {display: flex;flex-direction: column;z-index: 1;position: relative;background-color: white;}#sk-container-id-2 div.sk-parallel-item:first-child::after {align-self: flex-end;width: 50%;}#sk-container-id-2 div.sk-parallel-item:last-child::after {align-self: flex-start;width: 50%;}#sk-container-id-2 div.sk-parallel-item:only-child::after {width: 0;}#sk-container-id-2 div.sk-dashed-wrapped {border: 1px dashed gray;margin: 0 0.4em 0.5em 0.4em;box-sizing: border-box;padding-bottom: 0.4em;background-color: white;}#sk-container-id-2 div.sk-label label {font-family: monospace;font-weight: bold;display: inline-block;line-height: 1.2em;}#sk-container-id-2 div.sk-label-container {text-align: center;}#sk-container-id-2 div.sk-container {/* jupyter's `normalize.less` sets `[hidden] { display: none; }` but bootstrap.min.css set `[hidden] { display: none !important; }` so we also need the `!important` here to be able to override the default hidden behavior on the sphinx rendered scikit-learn.org. See: https://github.com/scikit-learn/scikit-learn/issues/21755 */display: inline-block !important;position: relative;}#sk-container-id-2 div.sk-text-repr-fallback {display: none;}</style><div id=\"sk-container-id-2\" class=\"sk-top-container\"><div class=\"sk-text-repr-fallback\"><pre>KMeans(n_clusters=3)</pre><b>In a Jupyter environment, please rerun this cell to show the HTML representation or trust the notebook. <br />On GitHub, the HTML representation is unable to render, please try loading this page with nbviewer.org.</b></div><div class=\"sk-container\" hidden><div class=\"sk-item\"><div class=\"sk-estimator sk-toggleable\"><input class=\"sk-toggleable__control sk-hidden--visually\" id=\"sk-estimator-id-2\" type=\"checkbox\" checked><label for=\"sk-estimator-id-2\" class=\"sk-toggleable__label sk-toggleable__label-arrow\">KMeans</label><div class=\"sk-toggleable__content\"><pre>KMeans(n_clusters=3)</pre></div></div></div></div></div>"
      ],
      "text/plain": [
       "KMeans(n_clusters=3)"
      ]
     },
     "execution_count": 85,
     "metadata": {},
     "output_type": "execute_result"
    }
   ],
   "source": [
    "# Fit the k-means object to the data.\n",
    "\n",
    "kmeans.fit(df)"
   ]
  },
  {
   "cell_type": "code",
   "execution_count": 89,
   "id": "b778d9d8-d5ed-4cb5-8c8a-a5db29b40c8b",
   "metadata": {},
   "outputs": [
    {
     "name": "stderr",
     "output_type": "stream",
     "text": [
      "C:\\Users\\aditi\\anaconda3\\Lib\\site-packages\\sklearn\\cluster\\_kmeans.py:870: FutureWarning: The default value of `n_init` will change from 10 to 'auto' in 1.4. Set the value of `n_init` explicitly to suppress the warning\n",
      "  warnings.warn(\n"
     ]
    }
   ],
   "source": [
    "df['clusters'] = kmeans.fit_predict(df)"
   ]
  },
  {
   "cell_type": "code",
   "execution_count": 92,
   "id": "c82072bc-918c-408a-aa8a-26c8b12374dd",
   "metadata": {},
   "outputs": [
    {
     "data": {
      "text/html": [
       "<div>\n",
       "<style scoped>\n",
       "    .dataframe tbody tr th:only-of-type {\n",
       "        vertical-align: middle;\n",
       "    }\n",
       "\n",
       "    .dataframe tbody tr th {\n",
       "        vertical-align: top;\n",
       "    }\n",
       "\n",
       "    .dataframe thead th {\n",
       "        text-align: right;\n",
       "    }\n",
       "</style>\n",
       "<table border=\"1\" class=\"dataframe\">\n",
       "  <thead>\n",
       "    <tr style=\"text-align: right;\">\n",
       "      <th></th>\n",
       "      <th>Max of total_cases</th>\n",
       "      <th>Max of total_deaths</th>\n",
       "      <th>Max of reproduction_rate</th>\n",
       "      <th>Max of people_vaccinated</th>\n",
       "      <th>Max of people_fully_vaccinated</th>\n",
       "      <th>Average of aged_65_older (in %)</th>\n",
       "      <th>Average of gdp_per_capita (in USD)</th>\n",
       "      <th>Average of cardiovasc_death_rate (per 100,000)</th>\n",
       "      <th>Average of diabetes_prevalence (%)</th>\n",
       "      <th>Average of female_smokers (%)</th>\n",
       "      <th>Average of male_smokers (%)</th>\n",
       "      <th>Average of life_expectancy (in years)</th>\n",
       "      <th>Max of population</th>\n",
       "      <th>clusters</th>\n",
       "    </tr>\n",
       "  </thead>\n",
       "  <tbody>\n",
       "    <tr>\n",
       "      <th>0</th>\n",
       "      <td>103436829</td>\n",
       "      <td>1189083</td>\n",
       "      <td>3.61</td>\n",
       "      <td>270227181</td>\n",
       "      <td>230637348</td>\n",
       "      <td>15.413</td>\n",
       "      <td>54225.446</td>\n",
       "      <td>151.089</td>\n",
       "      <td>10.79</td>\n",
       "      <td>19.1</td>\n",
       "      <td>24.6</td>\n",
       "      <td>78.86</td>\n",
       "      <td>338289856</td>\n",
       "      <td>2</td>\n",
       "    </tr>\n",
       "    <tr>\n",
       "      <th>1</th>\n",
       "      <td>99361338</td>\n",
       "      <td>122248</td>\n",
       "      <td>3.68</td>\n",
       "      <td>1310292000</td>\n",
       "      <td>1276760000</td>\n",
       "      <td>10.641</td>\n",
       "      <td>15308.712</td>\n",
       "      <td>261.899</td>\n",
       "      <td>9.74</td>\n",
       "      <td>1.9</td>\n",
       "      <td>48.4</td>\n",
       "      <td>76.91</td>\n",
       "      <td>1425887360</td>\n",
       "      <td>1</td>\n",
       "    </tr>\n",
       "    <tr>\n",
       "      <th>2</th>\n",
       "      <td>45040074</td>\n",
       "      <td>533619</td>\n",
       "      <td>2.67</td>\n",
       "      <td>1027438825</td>\n",
       "      <td>951990461</td>\n",
       "      <td>5.989</td>\n",
       "      <td>6426.674</td>\n",
       "      <td>282.280</td>\n",
       "      <td>10.39</td>\n",
       "      <td>1.9</td>\n",
       "      <td>20.6</td>\n",
       "      <td>69.66</td>\n",
       "      <td>1417173120</td>\n",
       "      <td>1</td>\n",
       "    </tr>\n",
       "    <tr>\n",
       "      <th>3</th>\n",
       "      <td>38997490</td>\n",
       "      <td>168091</td>\n",
       "      <td>3.09</td>\n",
       "      <td>54677678</td>\n",
       "      <td>53192478</td>\n",
       "      <td>19.718</td>\n",
       "      <td>38605.671</td>\n",
       "      <td>86.060</td>\n",
       "      <td>4.77</td>\n",
       "      <td>30.1</td>\n",
       "      <td>35.6</td>\n",
       "      <td>82.66</td>\n",
       "      <td>67813000</td>\n",
       "      <td>0</td>\n",
       "    </tr>\n",
       "    <tr>\n",
       "      <th>4</th>\n",
       "      <td>38437756</td>\n",
       "      <td>174979</td>\n",
       "      <td>3.00</td>\n",
       "      <td>64876299</td>\n",
       "      <td>63563414</td>\n",
       "      <td>21.453</td>\n",
       "      <td>45229.245</td>\n",
       "      <td>156.139</td>\n",
       "      <td>8.31</td>\n",
       "      <td>28.2</td>\n",
       "      <td>33.1</td>\n",
       "      <td>81.33</td>\n",
       "      <td>83369840</td>\n",
       "      <td>0</td>\n",
       "    </tr>\n",
       "  </tbody>\n",
       "</table>\n",
       "</div>"
      ],
      "text/plain": [
       "   Max of total_cases  Max of total_deaths  Max of reproduction_rate  \\\n",
       "0           103436829              1189083                      3.61   \n",
       "1            99361338               122248                      3.68   \n",
       "2            45040074               533619                      2.67   \n",
       "3            38997490               168091                      3.09   \n",
       "4            38437756               174979                      3.00   \n",
       "\n",
       "   Max of people_vaccinated  Max of people_fully_vaccinated  \\\n",
       "0                 270227181                       230637348   \n",
       "1                1310292000                      1276760000   \n",
       "2                1027438825                       951990461   \n",
       "3                  54677678                        53192478   \n",
       "4                  64876299                        63563414   \n",
       "\n",
       "   Average of aged_65_older (in %)  Average of gdp_per_capita (in USD)  \\\n",
       "0                           15.413                           54225.446   \n",
       "1                           10.641                           15308.712   \n",
       "2                            5.989                            6426.674   \n",
       "3                           19.718                           38605.671   \n",
       "4                           21.453                           45229.245   \n",
       "\n",
       "   Average of cardiovasc_death_rate (per 100,000)  \\\n",
       "0                                         151.089   \n",
       "1                                         261.899   \n",
       "2                                         282.280   \n",
       "3                                          86.060   \n",
       "4                                         156.139   \n",
       "\n",
       "   Average of diabetes_prevalence (%)  Average of female_smokers (%)  \\\n",
       "0                               10.79                           19.1   \n",
       "1                                9.74                            1.9   \n",
       "2                               10.39                            1.9   \n",
       "3                                4.77                           30.1   \n",
       "4                                8.31                           28.2   \n",
       "\n",
       "   Average of male_smokers (%)  Average of life_expectancy (in years)  \\\n",
       "0                         24.6                                  78.86   \n",
       "1                         48.4                                  76.91   \n",
       "2                         20.6                                  69.66   \n",
       "3                         35.6                                  82.66   \n",
       "4                         33.1                                  81.33   \n",
       "\n",
       "   Max of population  clusters  \n",
       "0          338289856         2  \n",
       "1         1425887360         1  \n",
       "2         1417173120         1  \n",
       "3           67813000         0  \n",
       "4           83369840         0  "
      ]
     },
     "execution_count": 92,
     "metadata": {},
     "output_type": "execute_result"
    }
   ],
   "source": [
    "df.head()"
   ]
  },
  {
   "cell_type": "code",
   "execution_count": 95,
   "id": "48b3f3f8-dab0-4fc8-b450-49dc93890286",
   "metadata": {},
   "outputs": [
    {
     "data": {
      "text/plain": [
       "clusters\n",
       "0    219\n",
       "2     11\n",
       "1      2\n",
       "Name: count, dtype: int64"
      ]
     },
     "execution_count": 95,
     "metadata": {},
     "output_type": "execute_result"
    }
   ],
   "source": [
    "df['clusters'].value_counts()"
   ]
  },
  {
   "cell_type": "code",
   "execution_count": 98,
   "id": "1e67387a-13a1-42b6-847f-dd1fa1489129",
   "metadata": {},
   "outputs": [
    {
     "data": {
      "image/png": "[encoded data removed]",
      "text/plain": [
       "<Figure size 1200x800 with 1 Axes>"
      ]
     },
     "metadata": {},
     "output_type": "display_data"
    }
   ],
   "source": [
    "# Plot the clusters for the \"Max of total_cases\" and \"Max of total_deaths\" variables.\n",
    "\n",
    "plt.figure(figsize=(12,8))\n",
    "ax = sns.scatterplot(x=df['Max of total_cases'], y=df['Max of total_deaths'], hue=kmeans.labels_, s=100) \n",
    "# Here, you're subsetting `X` for the x and y arguments to avoid using their labels. \n",
    "# `hue` takes the value of the attribute `kmeans.labels_`, which is the result of running the k-means algorithm.\n",
    "# `s` represents the size of the points you want to see in the plot.\n",
    "\n",
    "ax.grid(False) # This removes the grid from the background.\n",
    "plt.xlabel('Max of total_cases') # Label x-axis.\n",
    "plt.ylabel('Max of total_deaths') # Label y-axis.\n",
    "plt.show()"
   ]
  },
  {
   "cell_type": "code",
   "execution_count": 101,
   "id": "4a918ceb-0a24-4c53-8655-0ee52fe2bcea",
   "metadata": {},
   "outputs": [],
   "source": [
    "df.loc[df['clusters'] == 2, 'cluster'] = 'dark purple'\n",
    "df.loc[df['clusters'] == 1, 'cluster'] = 'purple'\n",
    "df.loc[df['clusters'] == 0, 'cluster'] = 'pink'"
   ]
  },
  {
   "cell_type": "code",
   "execution_count": 104,
   "id": "491f14ff-f354-422d-bcfb-d6abd9533023",
   "metadata": {},
   "outputs": [
    {
     "data": {
      "text/html": [
       "<div>\n",
       "<style scoped>\n",
       "    .dataframe tbody tr th:only-of-type {\n",
       "        vertical-align: middle;\n",
       "    }\n",
       "\n",
       "    .dataframe tbody tr th {\n",
       "        vertical-align: top;\n",
       "    }\n",
       "\n",
       "    .dataframe thead tr th {\n",
       "        text-align: left;\n",
       "    }\n",
       "\n",
       "    .dataframe thead tr:last-of-type th {\n",
       "        text-align: right;\n",
       "    }\n",
       "</style>\n",
       "<table border=\"1\" class=\"dataframe\">\n",
       "  <thead>\n",
       "    <tr>\n",
       "      <th></th>\n",
       "      <th colspan=\"2\" halign=\"left\">Max of total_cases</th>\n",
       "      <th colspan=\"2\" halign=\"left\">Max of total_deaths</th>\n",
       "    </tr>\n",
       "    <tr>\n",
       "      <th></th>\n",
       "      <th>mean</th>\n",
       "      <th>median</th>\n",
       "      <th>mean</th>\n",
       "      <th>median</th>\n",
       "    </tr>\n",
       "    <tr>\n",
       "      <th>cluster</th>\n",
       "      <th></th>\n",
       "      <th></th>\n",
       "      <th></th>\n",
       "      <th></th>\n",
       "    </tr>\n",
       "  </thead>\n",
       "  <tbody>\n",
       "    <tr>\n",
       "      <th>dark purple</th>\n",
       "      <td>2.120118e+07</td>\n",
       "      <td>7709747.0</td>\n",
       "      <td>276306.363636</td>\n",
       "      <td>74694.0</td>\n",
       "    </tr>\n",
       "    <tr>\n",
       "      <th>pink</th>\n",
       "      <td>1.817634e+06</td>\n",
       "      <td>156864.0</td>\n",
       "      <td>15333.872146</td>\n",
       "      <td>1427.0</td>\n",
       "    </tr>\n",
       "    <tr>\n",
       "      <th>purple</th>\n",
       "      <td>7.220071e+07</td>\n",
       "      <td>72200706.0</td>\n",
       "      <td>327933.500000</td>\n",
       "      <td>327933.5</td>\n",
       "    </tr>\n",
       "  </tbody>\n",
       "</table>\n",
       "</div>"
      ],
      "text/plain": [
       "            Max of total_cases             Max of total_deaths          \n",
       "                          mean      median                mean    median\n",
       "cluster                                                                 \n",
       "dark purple       2.120118e+07   7709747.0       276306.363636   74694.0\n",
       "pink              1.817634e+06    156864.0        15333.872146    1427.0\n",
       "purple            7.220071e+07  72200706.0       327933.500000  327933.5"
      ]
     },
     "execution_count": 104,
     "metadata": {},
     "output_type": "execute_result"
    }
   ],
   "source": [
    "df.groupby('cluster').agg({'Max of total_cases':['mean', 'median'], \n",
    "                         'Max of total_deaths':['mean', 'median']})"
   ]
  }
 ],
 "metadata": {
  "kernelspec": {
   "display_name": "Python 3 (ipykernel)",
   "language": "python",
   "name": "python3"
  },
  "language_info": {
   "codemirror_mode": {
    "name": "ipython",
    "version": 3
   },
   "file_extension": ".py",
   "mimetype": "text/x-python",
   "name": "python",
   "nbconvert_exporter": "python",
   "pygments_lexer": "ipython3",
   "version": "3.11.7"
  }
 },
 "nbformat": 4,
 "nbformat_minor": 5
}
