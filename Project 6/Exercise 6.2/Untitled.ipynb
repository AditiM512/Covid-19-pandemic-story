{
 "cells": [
  {
   "cell_type": "code",
   "execution_count": 2,
   "id": "2c895af7-bd22-4710-9be3-7f1abb11cacb",
   "metadata": {},
   "outputs": [],
   "source": [
    "import pandas as pd\n",
    "import numpy as np\n",
    "import seaborn as sns\n",
    "import matplotlib.pyplot as plt\n",
    "import matplotlib\n",
    "import os\n",
    "import openpyxl"
   ]
  },
  {
   "cell_type": "code",
   "execution_count": 4,
   "id": "39d13bf7-7d00-481d-a214-cc124c7dadb0",
   "metadata": {},
   "outputs": [],
   "source": [
    "# This option ensures the charts you create are displayed in the notebook without the need to \"call\" them specifically.\n",
    "\n",
    "%matplotlib inline"
   ]
  },
  {
   "cell_type": "code",
   "execution_count": 7,
   "id": "b4e2551c-437c-4c73-8562-e084f90acb12",
   "metadata": {},
   "outputs": [],
   "source": [
    "# Importing dataset\n",
    "\n",
    "file_path = r'C:\\Users\\aditi\\Desktop\\Data Analytics_Career Foundry\\Data Analytics_Immersion\\Project 6\\Pivoted_dataset.xlsx'"
   ]
  },
  {
   "cell_type": "code",
   "execution_count": 10,
   "id": "ba405cd3-f00f-420f-a499-c92441352b20",
   "metadata": {},
   "outputs": [],
   "source": [
    "df = pd.read_excel(file_path)"
   ]
  },
  {
   "cell_type": "code",
   "execution_count": 13,
   "id": "ea053f60-4d97-4a14-95c7-dc70a501158d",
   "metadata": {},
   "outputs": [
    {
     "data": {
      "text/html": [
       "<div>\n",
       "<style scoped>\n",
       "    .dataframe tbody tr th:only-of-type {\n",
       "        vertical-align: middle;\n",
       "    }\n",
       "\n",
       "    .dataframe tbody tr th {\n",
       "        vertical-align: top;\n",
       "    }\n",
       "\n",
       "    .dataframe thead th {\n",
       "        text-align: right;\n",
       "    }\n",
       "</style>\n",
       "<table border=\"1\" class=\"dataframe\">\n",
       "  <thead>\n",
       "    <tr style=\"text-align: right;\">\n",
       "      <th></th>\n",
       "      <th>Location</th>\n",
       "      <th>Max of total_cases</th>\n",
       "      <th>Max of total_deaths</th>\n",
       "      <th>Max of reproduction_rate</th>\n",
       "      <th>Max of people_vaccinated</th>\n",
       "      <th>Max of people_fully_vaccinated</th>\n",
       "      <th>Average of aged_65_older (in %)</th>\n",
       "      <th>Average of gdp_per_capita (in USD)</th>\n",
       "      <th>Average of cardiovasc_death_rate (per 100,000)</th>\n",
       "      <th>Average of diabetes_prevalence (%)</th>\n",
       "      <th>Average of female_smokers (%)</th>\n",
       "      <th>Average of male_smokers (%)</th>\n",
       "      <th>Average of life_expectancy (in years)</th>\n",
       "      <th>Max of population</th>\n",
       "    </tr>\n",
       "  </thead>\n",
       "  <tbody>\n",
       "    <tr>\n",
       "      <th>0</th>\n",
       "      <td>Afghanistan</td>\n",
       "      <td>235214</td>\n",
       "      <td>7998</td>\n",
       "      <td>1.61</td>\n",
       "      <td>19151369</td>\n",
       "      <td>18370386</td>\n",
       "      <td>2.581</td>\n",
       "      <td>1803.987</td>\n",
       "      <td>597.029</td>\n",
       "      <td>9.59</td>\n",
       "      <td>0.0</td>\n",
       "      <td>0.0</td>\n",
       "      <td>64.83</td>\n",
       "      <td>41128772</td>\n",
       "    </tr>\n",
       "    <tr>\n",
       "      <th>1</th>\n",
       "      <td>Albania</td>\n",
       "      <td>335047</td>\n",
       "      <td>3605</td>\n",
       "      <td>1.88</td>\n",
       "      <td>1349255</td>\n",
       "      <td>1279333</td>\n",
       "      <td>13.188</td>\n",
       "      <td>11803.431</td>\n",
       "      <td>304.195</td>\n",
       "      <td>10.08</td>\n",
       "      <td>7.1</td>\n",
       "      <td>51.2</td>\n",
       "      <td>78.57</td>\n",
       "      <td>2842318</td>\n",
       "    </tr>\n",
       "    <tr>\n",
       "      <th>2</th>\n",
       "      <td>Algeria</td>\n",
       "      <td>272034</td>\n",
       "      <td>6881</td>\n",
       "      <td>1.79</td>\n",
       "      <td>7840131</td>\n",
       "      <td>6481186</td>\n",
       "      <td>6.211</td>\n",
       "      <td>13913.839</td>\n",
       "      <td>278.364</td>\n",
       "      <td>6.73</td>\n",
       "      <td>0.7</td>\n",
       "      <td>30.4</td>\n",
       "      <td>76.88</td>\n",
       "      <td>44903228</td>\n",
       "    </tr>\n",
       "    <tr>\n",
       "      <th>3</th>\n",
       "      <td>American Samoa</td>\n",
       "      <td>8359</td>\n",
       "      <td>34</td>\n",
       "      <td>0.00</td>\n",
       "      <td>0</td>\n",
       "      <td>0</td>\n",
       "      <td>0.000</td>\n",
       "      <td>0.000</td>\n",
       "      <td>283.750</td>\n",
       "      <td>0.00</td>\n",
       "      <td>0.0</td>\n",
       "      <td>0.0</td>\n",
       "      <td>73.74</td>\n",
       "      <td>44295</td>\n",
       "    </tr>\n",
       "    <tr>\n",
       "      <th>4</th>\n",
       "      <td>Andorra</td>\n",
       "      <td>48015</td>\n",
       "      <td>159</td>\n",
       "      <td>1.63</td>\n",
       "      <td>57913</td>\n",
       "      <td>53501</td>\n",
       "      <td>0.000</td>\n",
       "      <td>0.000</td>\n",
       "      <td>109.135</td>\n",
       "      <td>7.97</td>\n",
       "      <td>29.0</td>\n",
       "      <td>37.8</td>\n",
       "      <td>83.73</td>\n",
       "      <td>79843</td>\n",
       "    </tr>\n",
       "  </tbody>\n",
       "</table>\n",
       "</div>"
      ],
      "text/plain": [
       "         Location  Max of total_cases  Max of total_deaths  \\\n",
       "0     Afghanistan              235214                 7998   \n",
       "1         Albania              335047                 3605   \n",
       "2         Algeria              272034                 6881   \n",
       "3  American Samoa                8359                   34   \n",
       "4         Andorra               48015                  159   \n",
       "\n",
       "   Max of reproduction_rate  Max of people_vaccinated  \\\n",
       "0                      1.61                  19151369   \n",
       "1                      1.88                   1349255   \n",
       "2                      1.79                   7840131   \n",
       "3                      0.00                         0   \n",
       "4                      1.63                     57913   \n",
       "\n",
       "   Max of people_fully_vaccinated  Average of aged_65_older (in %)  \\\n",
       "0                        18370386                            2.581   \n",
       "1                         1279333                           13.188   \n",
       "2                         6481186                            6.211   \n",
       "3                               0                            0.000   \n",
       "4                           53501                            0.000   \n",
       "\n",
       "   Average of gdp_per_capita (in USD)  \\\n",
       "0                            1803.987   \n",
       "1                           11803.431   \n",
       "2                           13913.839   \n",
       "3                               0.000   \n",
       "4                               0.000   \n",
       "\n",
       "   Average of cardiovasc_death_rate (per 100,000)  \\\n",
       "0                                         597.029   \n",
       "1                                         304.195   \n",
       "2                                         278.364   \n",
       "3                                         283.750   \n",
       "4                                         109.135   \n",
       "\n",
       "   Average of diabetes_prevalence (%)  Average of female_smokers (%)  \\\n",
       "0                                9.59                            0.0   \n",
       "1                               10.08                            7.1   \n",
       "2                                6.73                            0.7   \n",
       "3                                0.00                            0.0   \n",
       "4                                7.97                           29.0   \n",
       "\n",
       "   Average of male_smokers (%)  Average of life_expectancy (in years)  \\\n",
       "0                          0.0                                  64.83   \n",
       "1                         51.2                                  78.57   \n",
       "2                         30.4                                  76.88   \n",
       "3                          0.0                                  73.74   \n",
       "4                         37.8                                  83.73   \n",
       "\n",
       "   Max of population  \n",
       "0           41128772  \n",
       "1            2842318  \n",
       "2           44903228  \n",
       "3              44295  \n",
       "4              79843  "
      ]
     },
     "execution_count": 13,
     "metadata": {},
     "output_type": "execute_result"
    }
   ],
   "source": [
    "df.head()"
   ]
  },
  {
   "cell_type": "code",
   "execution_count": 16,
   "id": "0de09399-f12e-4b16-8191-ae7d753bc656",
   "metadata": {},
   "outputs": [
    {
     "data": {
      "text/plain": [
       "Index(['Location', 'Max of total_cases', 'Max of total_deaths',\n",
       "       'Max of reproduction_rate', 'Max of people_vaccinated',\n",
       "       'Max of people_fully_vaccinated', 'Average of aged_65_older (in %)',\n",
       "       'Average of gdp_per_capita (in USD)',\n",
       "       'Average of cardiovasc_death_rate (per 100,000)',\n",
       "       'Average of diabetes_prevalence (%)', 'Average of female_smokers (%)',\n",
       "       'Average of male_smokers (%)', 'Average of life_expectancy (in years)',\n",
       "       'Max of population'],\n",
       "      dtype='object')"
      ]
     },
     "execution_count": 16,
     "metadata": {},
     "output_type": "execute_result"
    }
   ],
   "source": [
    "# all column names\n",
    "\n",
    "df.columns"
   ]
  },
  {
   "cell_type": "code",
   "execution_count": 36,
   "id": "c84bdf17-45ac-4e84-977c-0c96648361b3",
   "metadata": {},
   "outputs": [],
   "source": [
    "sub=df[['Max of total_cases', 'Max of total_deaths', 'Average of aged_65_older (in %)', 'Average of diabetes_prevalence (%)', 'Average of female_smokers (%)', 'Average of male_smokers (%)']]"
   ]
  },
  {
   "cell_type": "code",
   "execution_count": 38,
   "id": "6065564d-689c-4e60-a0fc-6206759c81fd",
   "metadata": {},
   "outputs": [
    {
     "ename": "AttributeError",
     "evalue": "'tuple' object has no attribute 'corr'",
     "output_type": "error",
     "traceback": [
      "\u001b[1;31m---------------------------------------------------------------------------\u001b[0m",
      "\u001b[1;31mAttributeError\u001b[0m                            Traceback (most recent call last)",
      "Cell \u001b[1;32mIn[38], line 5\u001b[0m\n\u001b[0;32m      2\u001b[0m f,ax \u001b[38;5;241m=\u001b[39m plt\u001b[38;5;241m.\u001b[39msubplots(figsize\u001b[38;5;241m=\u001b[39m(\u001b[38;5;241m10\u001b[39m,\u001b[38;5;241m10\u001b[39m))\n\u001b[0;32m      4\u001b[0m \u001b[38;5;66;03m# Create the correlation heatmap in seaborn by applying a heatmap onto the correlation matrix and the subplots defined above.\u001b[39;00m\n\u001b[1;32m----> 5\u001b[0m corr \u001b[38;5;241m=\u001b[39m sns\u001b[38;5;241m.\u001b[39mheatmap(sub\u001b[38;5;241m.\u001b[39mcorr(), annot \u001b[38;5;241m=\u001b[39m \u001b[38;5;28;01mTrue\u001b[39;00m, ax \u001b[38;5;241m=\u001b[39m ax)\n",
      "\u001b[1;31mAttributeError\u001b[0m: 'tuple' object has no attribute 'corr'"
     ]
    },
    {
     "data": {
      "image/png": "[encoded data removed]",
      "text/plain": [
       "<Figure size 1000x1000 with 1 Axes>"
      ]
     },
     "metadata": {},
     "output_type": "display_data"
    }
   ],
   "source": [
    "# Create a subplot with matplotlib\n",
    "f,ax = plt.subplots(figsize=(10,10))\n",
    "\n",
    "# Create the correlation heatmap in seaborn by applying a heatmap onto the correlation matrix and the subplots defined above.\n",
    "corr = sns.heatmap(sub.corr(), annot = True, ax = ax) # The `annot` argument allows the plot to \n",
    "#place the correlation coefficients onto the heatmap."
   ]
  }
 ],
 "metadata": {
  "kernelspec": {
   "display_name": "Python 3 (ipykernel)",
   "language": "python",
   "name": "python3"
  },
  "language_info": {
   "codemirror_mode": {
    "name": "ipython",
    "version": 3
   },
   "file_extension": ".py",
   "mimetype": "text/x-python",
   "name": "python",
   "nbconvert_exporter": "python",
   "pygments_lexer": "ipython3",
   "version": "3.11.7"
  }
 },
 "nbformat": 4,
 "nbformat_minor": 5
}
